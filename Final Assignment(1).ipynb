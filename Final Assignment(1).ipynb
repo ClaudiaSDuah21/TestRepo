{
 "cells": [
  {
   "cell_type": "markdown",
   "metadata": {},
   "source": [
    "<p style=\"text-align:center\">\n",
    "    <a href=\"https://skills.network/?utm_medium=Exinfluencer&utm_source=Exinfluencer&utm_content=000026UJ&utm_term=10006555&utm_id=NA-SkillsNetwork-Channel-SkillsNetworkCoursesIBMDeveloperSkillsNetworkPY0220ENSkillsNetwork900-2022-01-01\" target=\"_blank\">\n",
    "    <img src=\"https://cf-courses-data.s3.us.cloud-object-storage.appdomain.cloud/assets/logos/SN_web_lightmode.png\" width=\"200\" alt=\"Skills Network Logo\">\n",
    "    </a>\n",
    "</p>\n"
   ]
  },
  {
   "cell_type": "markdown",
   "metadata": {},
   "source": [
    "<h1>Extracting and Visualizing Stock Data</h1>\n",
    "<h2>Description</h2>\n"
   ]
  },
  {
   "cell_type": "markdown",
   "metadata": {},
   "source": [
    "Extracting essential data from a dataset and displaying it is a necessary part of data science; therefore individuals can make correct decisions based on the data. In this assignment, you will extract some stock data, you will then display this data in a graph.\n"
   ]
  },
  {
   "cell_type": "markdown",
   "metadata": {},
   "source": [
    "<h2>Table of Contents</h2>\n",
    "<div class=\"alert alert-block alert-info\" style=\"margin-top: 20px\">\n",
    "    <ul>\n",
    "        <li>Define a Function that Makes a Graph</li>\n",
    "        <li>Question 1: Use yfinance to Extract Stock Data</li>\n",
    "        <li>Question 2: Use Webscraping to Extract Tesla Revenue Data</li>\n",
    "        <li>Question 3: Use yfinance to Extract Stock Data</li>\n",
    "        <li>Question 4: Use Webscraping to Extract GME Revenue Data</li>\n",
    "        <li>Question 5: Plot Tesla Stock Graph</li>\n",
    "        <li>Question 6: Plot GameStop Stock Graph</li>\n",
    "    </ul>\n",
    "<p>\n",
    "    Estimated Time Needed: <strong>30 min</strong></p>\n",
    "</div>\n",
    "\n",
    "<hr>\n"
   ]
  },
  {
   "cell_type": "markdown",
   "metadata": {},
   "source": [
    "***Note***:- If you are working Locally using anaconda, please uncomment the following code and execute it.\n",
    "Use the version as per your python version.\n"
   ]
  },
  {
   "cell_type": "code",
   "execution_count": 1,
   "metadata": {},
   "outputs": [
    {
     "name": "stdout",
     "output_type": "stream",
     "text": [
      "Requirement already satisfied: yfinance in /opt/conda/lib/python3.12/site-packages (0.2.65)\n",
      "Requirement already satisfied: pandas>=1.3.0 in /opt/conda/lib/python3.12/site-packages (from yfinance) (2.3.1)\n",
      "Requirement already satisfied: numpy>=1.16.5 in /opt/conda/lib/python3.12/site-packages (from yfinance) (2.3.1)\n",
      "Requirement already satisfied: requests>=2.31 in /opt/conda/lib/python3.12/site-packages (from yfinance) (2.32.3)\n",
      "Requirement already satisfied: multitasking>=0.0.7 in /opt/conda/lib/python3.12/site-packages (from yfinance) (0.0.11)\n",
      "Requirement already satisfied: platformdirs>=2.0.0 in /opt/conda/lib/python3.12/site-packages (from yfinance) (4.3.6)\n",
      "Requirement already satisfied: pytz>=2022.5 in /opt/conda/lib/python3.12/site-packages (from yfinance) (2024.2)\n",
      "Requirement already satisfied: frozendict>=2.3.4 in /opt/conda/lib/python3.12/site-packages (from yfinance) (2.4.6)\n",
      "Requirement already satisfied: peewee>=3.16.2 in /opt/conda/lib/python3.12/site-packages (from yfinance) (3.18.2)\n",
      "Requirement already satisfied: beautifulsoup4>=4.11.1 in /opt/conda/lib/python3.12/site-packages (from yfinance) (4.12.3)\n",
      "Requirement already satisfied: curl_cffi>=0.7 in /opt/conda/lib/python3.12/site-packages (from yfinance) (0.12.0)\n",
      "Requirement already satisfied: protobuf>=3.19.0 in /opt/conda/lib/python3.12/site-packages (from yfinance) (6.31.1)\n",
      "Requirement already satisfied: websockets>=13.0 in /opt/conda/lib/python3.12/site-packages (from yfinance) (15.0.1)\n",
      "Requirement already satisfied: soupsieve>1.2 in /opt/conda/lib/python3.12/site-packages (from beautifulsoup4>=4.11.1->yfinance) (2.5)\n",
      "Requirement already satisfied: cffi>=1.12.0 in /opt/conda/lib/python3.12/site-packages (from curl_cffi>=0.7->yfinance) (1.17.1)\n",
      "Requirement already satisfied: certifi>=2024.2.2 in /opt/conda/lib/python3.12/site-packages (from curl_cffi>=0.7->yfinance) (2024.12.14)\n",
      "Requirement already satisfied: python-dateutil>=2.8.2 in /opt/conda/lib/python3.12/site-packages (from pandas>=1.3.0->yfinance) (2.9.0.post0)\n",
      "Requirement already satisfied: tzdata>=2022.7 in /opt/conda/lib/python3.12/site-packages (from pandas>=1.3.0->yfinance) (2025.2)\n",
      "Requirement already satisfied: charset_normalizer<4,>=2 in /opt/conda/lib/python3.12/site-packages (from requests>=2.31->yfinance) (3.4.1)\n",
      "Requirement already satisfied: idna<4,>=2.5 in /opt/conda/lib/python3.12/site-packages (from requests>=2.31->yfinance) (3.10)\n",
      "Requirement already satisfied: urllib3<3,>=1.21.1 in /opt/conda/lib/python3.12/site-packages (from requests>=2.31->yfinance) (2.3.0)\n",
      "Requirement already satisfied: pycparser in /opt/conda/lib/python3.12/site-packages (from cffi>=1.12.0->curl_cffi>=0.7->yfinance) (2.22)\n",
      "Requirement already satisfied: six>=1.5 in /opt/conda/lib/python3.12/site-packages (from python-dateutil>=2.8.2->pandas>=1.3.0->yfinance) (1.17.0)\n",
      "Requirement already satisfied: bs4 in /opt/conda/lib/python3.12/site-packages (0.0.2)\n",
      "Requirement already satisfied: beautifulsoup4 in /opt/conda/lib/python3.12/site-packages (from bs4) (4.12.3)\n",
      "Requirement already satisfied: soupsieve>1.2 in /opt/conda/lib/python3.12/site-packages (from beautifulsoup4->bs4) (2.5)\n",
      "Requirement already satisfied: nbformat in /opt/conda/lib/python3.12/site-packages (5.10.4)\n",
      "Requirement already satisfied: fastjsonschema>=2.15 in /opt/conda/lib/python3.12/site-packages (from nbformat) (2.21.1)\n",
      "Requirement already satisfied: jsonschema>=2.6 in /opt/conda/lib/python3.12/site-packages (from nbformat) (4.23.0)\n",
      "Requirement already satisfied: jupyter-core!=5.0.*,>=4.12 in /opt/conda/lib/python3.12/site-packages (from nbformat) (5.7.2)\n",
      "Requirement already satisfied: traitlets>=5.1 in /opt/conda/lib/python3.12/site-packages (from nbformat) (5.14.3)\n",
      "Requirement already satisfied: attrs>=22.2.0 in /opt/conda/lib/python3.12/site-packages (from jsonschema>=2.6->nbformat) (25.1.0)\n",
      "Requirement already satisfied: jsonschema-specifications>=2023.03.6 in /opt/conda/lib/python3.12/site-packages (from jsonschema>=2.6->nbformat) (2024.10.1)\n",
      "Requirement already satisfied: referencing>=0.28.4 in /opt/conda/lib/python3.12/site-packages (from jsonschema>=2.6->nbformat) (0.36.2)\n",
      "Requirement already satisfied: rpds-py>=0.7.1 in /opt/conda/lib/python3.12/site-packages (from jsonschema>=2.6->nbformat) (0.22.3)\n",
      "Requirement already satisfied: platformdirs>=2.5 in /opt/conda/lib/python3.12/site-packages (from jupyter-core!=5.0.*,>=4.12->nbformat) (4.3.6)\n",
      "Requirement already satisfied: typing-extensions>=4.4.0 in /opt/conda/lib/python3.12/site-packages (from referencing>=0.28.4->jsonschema>=2.6->nbformat) (4.12.2)\n",
      "Requirement already satisfied: plotly in /opt/conda/lib/python3.12/site-packages (5.24.1)\n",
      "Collecting plotly\n",
      "  Downloading plotly-6.2.0-py3-none-any.whl.metadata (8.5 kB)\n",
      "Collecting narwhals>=1.15.1 (from plotly)\n",
      "  Downloading narwhals-1.47.0-py3-none-any.whl.metadata (11 kB)\n",
      "Requirement already satisfied: packaging in /opt/conda/lib/python3.12/site-packages (from plotly) (24.2)\n",
      "Downloading plotly-6.2.0-py3-none-any.whl (9.6 MB)\n",
      "\u001b[2K   \u001b[90m━━━━━━━━━━━━━━━━━━━━━━━━━━━━━━━━━━━━━━━━\u001b[0m \u001b[32m9.6/9.6 MB\u001b[0m \u001b[31m178.6 MB/s\u001b[0m eta \u001b[36m0:00:00\u001b[0m\n",
      "Downloading narwhals-1.47.0-py3-none-any.whl (374 kB)\n",
      "Installing collected packages: narwhals, plotly\n",
      "  Attempting uninstall: plotly\n",
      "    Found existing installation: plotly 5.24.1\n",
      "    Uninstalling plotly-5.24.1:\n",
      "      Successfully uninstalled plotly-5.24.1\n",
      "Successfully installed narwhals-1.47.0 plotly-6.2.0\n"
     ]
    }
   ],
   "source": [
    "!pip install yfinance\n",
    "!pip install bs4\n",
    "!pip install nbformat\n",
    "!pip install --upgrade plotly"
   ]
  },
  {
   "cell_type": "code",
   "execution_count": 3,
   "metadata": {},
   "outputs": [],
   "source": [
    "import yfinance as yf\n",
    "import pandas as pd\n",
    "import requests\n",
    "from bs4 import BeautifulSoup\n",
    "import plotly.graph_objects as go\n",
    "from plotly.subplots import make_subplots"
   ]
  },
  {
   "cell_type": "code",
   "execution_count": 4,
   "metadata": {},
   "outputs": [],
   "source": [
    "import plotly.io as pio\n",
    "pio.renderers.default = \"iframe\""
   ]
  },
  {
   "cell_type": "markdown",
   "metadata": {},
   "source": [
    "In Python, you can ignore warnings using the warnings module. You can use the filterwarnings function to filter or ignore specific warning messages or categories.\n"
   ]
  },
  {
   "cell_type": "code",
   "execution_count": null,
   "metadata": {},
   "outputs": [],
   "source": [
    "import warnings\n",
    "# Ignore all warnings\n",
    "warnings.filterwarnings(\"ignore\", category=FutureWarning)"
   ]
  },
  {
   "cell_type": "markdown",
   "metadata": {},
   "source": [
    "## Define Graphing Function\n"
   ]
  },
  {
   "cell_type": "markdown",
   "metadata": {},
   "source": [
    "In this section, we define the function `make_graph`. **You don't have to know how the function works, you should only care about the inputs. It takes a dataframe with stock data (dataframe must contain Date and Close columns), a dataframe with revenue data (dataframe must contain Date and Revenue columns), and the name of the stock.**\n"
   ]
  },
  {
   "cell_type": "code",
   "execution_count": 5,
   "metadata": {},
   "outputs": [],
   "source": [
    "def make_graph(stock_data, revenue_data, stock):\n",
    "    fig = make_subplots(rows=2, cols=1, shared_xaxes=True, subplot_titles=(\"Historical Share Price\", \"Historical Revenue\"), vertical_spacing = .3)\n",
    "    stock_data_specific = stock_data[stock_data.Date <= '2021-06-14']\n",
    "    revenue_data_specific = revenue_data[revenue_data.Date <= '2021-04-30']\n",
    "    fig.add_trace(go.Scatter(x=pd.to_datetime(stock_data_specific.Date, infer_datetime_format=True), y=stock_data_specific.Close.astype(\"float\"), name=\"Share Price\"), row=1, col=1)\n",
    "    fig.add_trace(go.Scatter(x=pd.to_datetime(revenue_data_specific.Date, infer_datetime_format=True), y=revenue_data_specific.Revenue.astype(\"float\"), name=\"Revenue\"), row=2, col=1)\n",
    "    fig.update_xaxes(title_text=\"Date\", row=1, col=1)\n",
    "    fig.update_xaxes(title_text=\"Date\", row=2, col=1)\n",
    "    fig.update_yaxes(title_text=\"Price ($US)\", row=1, col=1)\n",
    "    fig.update_yaxes(title_text=\"Revenue ($US Millions)\", row=2, col=1)\n",
    "    fig.update_layout(showlegend=False,\n",
    "    height=900,\n",
    "    title=stock,\n",
    "    xaxis_rangeslider_visible=True)\n",
    "    fig.show()\n",
    "    from IPython.display import display, HTML\n",
    "    fig_html = fig.to_html()\n",
    "    display(HTML(fig_html))"
   ]
  },
  {
   "cell_type": "markdown",
   "metadata": {},
   "source": [
    "Use the make_graph function that we’ve already defined. You’ll need to invoke it in questions 5 and 6 to display the graphs and create the dashboard. \n",
    "> **Note: You don’t need to redefine the function for plotting graphs anywhere else in this notebook; just use the existing function.**\n"
   ]
  },
  {
   "cell_type": "markdown",
   "metadata": {},
   "source": [
    "## Question 1: Use yfinance to Extract Stock Data\n"
   ]
  },
  {
   "cell_type": "markdown",
   "metadata": {},
   "source": [
    "Using the `Ticker` function enter the ticker symbol of the stock we want to extract data on to create a ticker object. The stock is Tesla and its ticker symbol is `TSLA`.\n"
   ]
  },
  {
   "cell_type": "code",
   "execution_count": 9,
   "metadata": {},
   "outputs": [],
   "source": [
    "import yfinance as yf\n",
    "\n",
    "# Create a ticker object for Tesla\n",
    "tesla = yf.Ticker(\"TSLA\")\n"
   ]
  },
  {
   "cell_type": "markdown",
   "metadata": {},
   "source": [
    "Using the ticker object and the function `history` extract stock information and save it in a dataframe named `tesla_data`. Set the `period` parameter to ` \"max\" ` so we get information for the maximum amount of time.\n"
   ]
  },
  {
   "cell_type": "code",
   "execution_count": 10,
   "metadata": {},
   "outputs": [
    {
     "name": "stdout",
     "output_type": "stream",
     "text": [
      "                               Open      High       Low     Close     Volume  \\\n",
      "Date                                                                           \n",
      "2010-06-29 00:00:00-04:00  1.266667  1.666667  1.169333  1.592667  281494500   \n",
      "2010-06-30 00:00:00-04:00  1.719333  2.028000  1.553333  1.588667  257806500   \n",
      "2010-07-01 00:00:00-04:00  1.666667  1.728000  1.351333  1.464000  123282000   \n",
      "2010-07-02 00:00:00-04:00  1.533333  1.540000  1.247333  1.280000   77097000   \n",
      "2010-07-06 00:00:00-04:00  1.333333  1.333333  1.055333  1.074000  103003500   \n",
      "\n",
      "                           Dividends  Stock Splits  \n",
      "Date                                                \n",
      "2010-06-29 00:00:00-04:00        0.0           0.0  \n",
      "2010-06-30 00:00:00-04:00        0.0           0.0  \n",
      "2010-07-01 00:00:00-04:00        0.0           0.0  \n",
      "2010-07-02 00:00:00-04:00        0.0           0.0  \n",
      "2010-07-06 00:00:00-04:00        0.0           0.0  \n"
     ]
    }
   ],
   "source": [
    "# Extract Tesla's full historical stock data\n",
    "tesla_data = tesla.history(period=\"max\")\n",
    "\n",
    "# Optional: Display the first few rows\n",
    "print(tesla_data.head())\n"
   ]
  },
  {
   "cell_type": "markdown",
   "metadata": {},
   "source": [
    "**Reset the index** using the `reset_index(inplace=True)` function on the tesla_data DataFrame and display the first five rows of the `tesla_data` dataframe using the `head` function. Take a screenshot of the results and code from the beginning of Question 1 to the results below.\n"
   ]
  },
  {
   "cell_type": "code",
   "execution_count": null,
   "metadata": {},
   "outputs": [],
   "source": []
  },
  {
   "cell_type": "markdown",
   "metadata": {},
   "source": [
    "## Question 2: Use Webscraping to Extract Tesla Revenue Data\n"
   ]
  },
  {
   "cell_type": "markdown",
   "metadata": {},
   "source": [
    "Use the `requests` library to download the webpage https://cf-courses-data.s3.us.cloud-object-storage.appdomain.cloud/IBMDeveloperSkillsNetwork-PY0220EN-SkillsNetwork/labs/project/revenue.htm Save the text of the response as a variable named `html_data`.\n"
   ]
  },
  {
   "cell_type": "code",
   "execution_count": 11,
   "metadata": {},
   "outputs": [
    {
     "name": "stdout",
     "output_type": "stream",
     "text": [
      "\n",
      "<!DOCTYPE html>\n",
      "<!--[if lt IE 7]>      <html class=\"no-js lt-ie9 lt-ie8 lt-ie7\"> <![endif]-->\n",
      "<!--[if IE 7]>         <html class=\"no-js lt-ie9 lt-ie8\"> <![endif]-->\n",
      "<!--[if IE 8]>         <html class=\"no-js lt-ie9\"> <![endif]-->\n",
      "<!--[if gt IE 8]><!--> <html class=\"no-js\"> <!--<![endif]-->\n",
      "    <head>\n",
      "        <meta charset=\"utf-8\">\n",
      "        <meta http-equiv=\"X-UA-Compatible\" content=\"IE=edge,chrome=1\">\n",
      "\t\t<link rel=\"canonical\" href=\"https://www.macrotrends.net/stocks/charts/TSLA/tesla/revenue\" />\n",
      "\t\n"
     ]
    }
   ],
   "source": [
    "import requests\n",
    "\n",
    "# URL of the webpage\n",
    "url = \"https://cf-courses-data.s3.us.cloud-object-storage.appdomain.cloud/IBMDeveloperSkillsNetwork-PY0220EN-SkillsNetwork/labs/project/revenue.htm\"\n",
    "\n",
    "# Send GET request to download the page\n",
    "response = requests.get(url)\n",
    "\n",
    "# Save the HTML text into a variable\n",
    "html_data = response.text\n",
    "\n",
    "# Optional: preview the content\n",
    "print(html_data[:500])  # prints the first 500 characters\n"
   ]
  },
  {
   "cell_type": "markdown",
   "metadata": {},
   "source": [
    "Parse the html data using `beautiful_soup` using parser i.e `html5lib` or `html.parser`.\n"
   ]
  },
  {
   "cell_type": "code",
   "execution_count": 15,
   "metadata": {},
   "outputs": [],
   "source": [
    "from bs4 import BeautifulSoup\n",
    "\n",
    "# Parse the HTML using the built-in parser\n",
    "soup = BeautifulSoup(html_data, \"html.parser\")\n"
   ]
  },
  {
   "cell_type": "markdown",
   "metadata": {},
   "source": [
    "Using `BeautifulSoup` or the `read_html` function extract the table with `Tesla Revenue` and store it into a dataframe named `tesla_revenue`. The dataframe should have columns `Date` and `Revenue`.\n"
   ]
  },
  {
   "cell_type": "markdown",
   "metadata": {},
   "source": [
    "<details><summary>Step-by-step instructions</summary>\n",
    "\n",
    "```\n",
    "\n",
    "Here are the step-by-step instructions:\n",
    "\n",
    "1. Create an Empty DataFrame\n",
    "2. Find the Relevant Table\n",
    "3. Check for the Tesla Quarterly Revenue Table\n",
    "4. Iterate Through Rows in the Table Body\n",
    "5. Extract Data from Columns\n",
    "6. Append Data to the DataFrame\n",
    "\n",
    "```\n",
    "</details>\n"
   ]
  },
  {
   "cell_type": "markdown",
   "metadata": {},
   "source": [
    "<details><summary>Click here if you need help locating the table</summary>\n",
    "\n",
    "```\n",
    "    \n",
    "Below is the code to isolate the table, you will now need to loop through the rows and columns like in the previous lab\n",
    "    \n",
    "soup.find_all(\"tbody\")[1]\n",
    "    \n",
    "If you want to use the read_html function the table is located at index 1\n",
    "\n",
    "We are focusing on quarterly revenue in the lab.\n",
    "```\n",
    "\n",
    "</details>\n"
   ]
  },
  {
   "cell_type": "code",
   "execution_count": 16,
   "metadata": {},
   "outputs": [
    {
     "name": "stdout",
     "output_type": "stream",
     "text": [
      "         Date  Revenue\n",
      "0  2022-09-30  21454.0\n",
      "1  2022-06-30  16934.0\n",
      "2  2022-03-31  18756.0\n",
      "3  2021-12-31  17719.0\n",
      "4  2021-09-30  13757.0\n"
     ]
    }
   ],
   "source": [
    "import requests\n",
    "from bs4 import BeautifulSoup\n",
    "import pandas as pd\n",
    "\n",
    "# Step 1: Download the webpage\n",
    "url = \"https://cf-courses-data.s3.us.cloud-object-storage.appdomain.cloud/IBMDeveloperSkillsNetwork-PY0220EN-SkillsNetwork/labs/project/revenue.htm\"\n",
    "response = requests.get(url)\n",
    "html_data = response.text\n",
    "\n",
    "# Step 2: Parse the HTML\n",
    "soup = BeautifulSoup(html_data, \"html.parser\")\n",
    "\n",
    "# Step 3: Find the table body containing Tesla Quarterly Revenue\n",
    "table_body = soup.find_all(\"tbody\")[1]\n",
    "\n",
    "# Step 4 & 5: Loop through the rows and extract data\n",
    "data = []\n",
    "for row in table_body.find_all(\"tr\"):\n",
    "    cols = row.find_all(\"td\")\n",
    "    if len(cols) == 2:\n",
    "        date = cols[0].text.strip()\n",
    "        revenue = cols[1].text.strip()\n",
    "        data.append([date, revenue])\n",
    "\n",
    "# Step 6: Create the DataFrame\n",
    "tesla_revenue = pd.DataFrame(data, columns=[\"Date\", \"Revenue\"])\n",
    "\n",
    "\n",
    "# Show the first few rows\n",
    "print(tesla_revenue.head())\n"
   ]
  },
  {
   "cell_type": "markdown",
   "metadata": {},
   "source": [
    "Execute the following line to remove the comma and dollar sign from the `Revenue` column. \n"
   ]
  },
  {
   "cell_type": "code",
   "execution_count": 19,
   "metadata": {},
   "outputs": [],
   "source": [
    "tesla_revenue[\"Revenue\"] = tesla_revenue[\"Revenue\"].replace('[\\$,]', '', regex=True)\n",
    "tesla_revenue[\"Revenue\"] = pd.to_numeric(tesla_revenue[\"Revenue\"], errors='coerce')\n"
   ]
  },
  {
   "cell_type": "markdown",
   "metadata": {},
   "source": [
    "Execute the following lines to remove an null or empty strings in the Revenue column.\n"
   ]
  },
  {
   "cell_type": "code",
   "execution_count": 22,
   "metadata": {},
   "outputs": [],
   "source": [
    "tesla_revenue.dropna(inplace=True)\n",
    "\n",
    "tesla_revenue = tesla_revenue[tesla_revenue['Revenue'] != \"\"]"
   ]
  },
  {
   "cell_type": "markdown",
   "metadata": {},
   "source": [
    "Display the last 5 row of the `tesla_revenue` dataframe using the `tail` function. Take a screenshot of the results.\n"
   ]
  },
  {
   "cell_type": "code",
   "execution_count": 23,
   "metadata": {},
   "outputs": [
    {
     "name": "stdout",
     "output_type": "stream",
     "text": [
      "          Date  Revenue\n",
      "48  2010-09-30     31.0\n",
      "49  2010-06-30     28.0\n",
      "50  2010-03-31     21.0\n",
      "52  2009-09-30     46.0\n",
      "53  2009-06-30     27.0\n"
     ]
    }
   ],
   "source": [
    "print(tesla_revenue.tail())"
   ]
  },
  {
   "cell_type": "markdown",
   "metadata": {},
   "source": [
    "## Question 3: Use yfinance to Extract Stock Data\n"
   ]
  },
  {
   "cell_type": "markdown",
   "metadata": {},
   "source": [
    "Using the `Ticker` function enter the ticker symbol of the stock we want to extract data on to create a ticker object. The stock is GameStop and its ticker symbol is `GME`.\n"
   ]
  },
  {
   "cell_type": "code",
   "execution_count": 25,
   "metadata": {},
   "outputs": [],
   "source": [
    "import yfinance as yf\n",
    "\n",
    "# Create a ticker object for GameStop\n",
    "gamestop = yf.Ticker(\"GME\")\n"
   ]
  },
  {
   "cell_type": "markdown",
   "metadata": {},
   "source": [
    "Using the ticker object and the function `history` extract stock information and save it in a dataframe named `gme_data`. Set the `period` parameter to ` \"max\" ` so we get information for the maximum amount of time.\n"
   ]
  },
  {
   "cell_type": "code",
   "execution_count": 28,
   "metadata": {},
   "outputs": [],
   "source": [
    "# Extract full historical stock data for GameStop\n",
    "gme_data = gamestop.history(period=\"max\")\n",
    "\n"
   ]
  },
  {
   "cell_type": "markdown",
   "metadata": {},
   "source": [
    "**Reset the index** using the `reset_index(inplace=True)` function on the gme_data DataFrame and display the first five rows of the `gme_data` dataframe using the `head` function. Take a screenshot of the results and code from the beginning of Question 3 to the results below.\n"
   ]
  },
  {
   "cell_type": "code",
   "execution_count": 29,
   "metadata": {},
   "outputs": [
    {
     "name": "stdout",
     "output_type": "stream",
     "text": [
      "                               Open      High       Low     Close    Volume  \\\n",
      "Date                                                                          \n",
      "2002-02-13 00:00:00-05:00  1.620128  1.693350  1.603296  1.691666  76216000   \n",
      "2002-02-14 00:00:00-05:00  1.712707  1.716074  1.670626  1.683250  11021600   \n",
      "2002-02-15 00:00:00-05:00  1.683250  1.687458  1.658001  1.674834   8389600   \n",
      "2002-02-19 00:00:00-05:00  1.666417  1.666417  1.578047  1.607504   7410400   \n",
      "2002-02-20 00:00:00-05:00  1.615920  1.662210  1.603296  1.662210   6892800   \n",
      "\n",
      "                           Dividends  Stock Splits  \n",
      "Date                                                \n",
      "2002-02-13 00:00:00-05:00        0.0           0.0  \n",
      "2002-02-14 00:00:00-05:00        0.0           0.0  \n",
      "2002-02-15 00:00:00-05:00        0.0           0.0  \n",
      "2002-02-19 00:00:00-05:00        0.0           0.0  \n",
      "2002-02-20 00:00:00-05:00        0.0           0.0  \n"
     ]
    }
   ],
   "source": [
    "# Optional: display the first few rows\n",
    "print(gme_data.head())\n"
   ]
  },
  {
   "cell_type": "markdown",
   "metadata": {},
   "source": [
    "## Question 4: Use Webscraping to Extract GME Revenue Data\n"
   ]
  },
  {
   "cell_type": "markdown",
   "metadata": {},
   "source": [
    "Use the `requests` library to download the webpage https://cf-courses-data.s3.us.cloud-object-storage.appdomain.cloud/IBMDeveloperSkillsNetwork-PY0220EN-SkillsNetwork/labs/project/stock.html. Save the text of the response as a variable named `html_data_2`.\n"
   ]
  },
  {
   "cell_type": "code",
   "execution_count": 30,
   "metadata": {},
   "outputs": [
    {
     "name": "stdout",
     "output_type": "stream",
     "text": [
      "<!DOCTYPE html>\n",
      "<!-- saved from url=(0105)https://web.archive.org/web/20200814131437/https://www.macrotrends.net/stocks/charts/GME/gamestop/revenue -->\n",
      "<html class=\" js flexbox canvas canvastext webgl no-touch geolocation postmessage websqldatabase indexeddb hashchange history draganddrop websockets rgba hsla multiplebgs backgroundsize borderimage borderradius boxshadow textshadow opacity cssanimations csscolumns cssgradients cssreflections csstransforms csstransforms3d csstransitions fontface g\n"
     ]
    }
   ],
   "source": [
    "import requests\n",
    "\n",
    "url = \"https://cf-courses-data.s3.us.cloud-object-storage.appdomain.cloud/IBMDeveloperSkillsNetwork-PY0220EN-SkillsNetwork/labs/project/stock.html\"\n",
    "\n",
    "response = requests.get(url)\n",
    "html_data_2 = response.text\n",
    "\n",
    "# Optional: print first 500 characters to verify\n",
    "print(html_data_2[:500])\n"
   ]
  },
  {
   "cell_type": "markdown",
   "metadata": {},
   "source": [
    "Parse the html data using `beautiful_soup` using parser i.e `html5lib` or `html.parser`.\n"
   ]
  },
  {
   "cell_type": "code",
   "execution_count": 31,
   "metadata": {},
   "outputs": [],
   "source": [
    "from bs4 import BeautifulSoup\n",
    "\n",
    "# Using the built-in html.parser\n",
    "soup = BeautifulSoup(html_data_2, \"html.parser\")\n",
    "\n",
    "# Alternatively, if you prefer html5lib (needs to be installed):\n",
    "# soup = BeautifulSoup(html_data_2, \"html5lib\")\n"
   ]
  },
  {
   "cell_type": "markdown",
   "metadata": {},
   "source": [
    "Using `BeautifulSoup` or the `read_html` function extract the table with `GameStop Revenue` and store it into a dataframe named `gme_revenue`. The dataframe should have columns `Date` and `Revenue`. Make sure the comma and dollar sign is removed from the `Revenue` column.\n"
   ]
  },
  {
   "cell_type": "markdown",
   "metadata": {},
   "source": [
    "> **Note: Use the method similar to what you did in question 2.**  \n"
   ]
  },
  {
   "cell_type": "markdown",
   "metadata": {},
   "source": [
    "<details><summary>Click here if you need help locating the table</summary>\n",
    "\n",
    "```\n",
    "    \n",
    "Below is the code to isolate the table, you will now need to loop through the rows and columns like in the previous lab\n",
    "    \n",
    "soup.find_all(\"tbody\")[1]\n",
    "    \n",
    "If you want to use the read_html function the table is located at index 1\n",
    "\n",
    "\n",
    "```\n",
    "\n",
    "</details>\n"
   ]
  },
  {
   "cell_type": "code",
   "execution_count": 32,
   "metadata": {},
   "outputs": [
    {
     "data": {
      "text/plain": [
       "<tbody>\n",
       "<tr>\n",
       "<td style=\"text-align:center\">2020-04-30</td>\n",
       "<td style=\"text-align:center\">$1,021</td>\n",
       "</tr>\n",
       "<tr>\n",
       "<td style=\"text-align:center\">2020-01-31</td>\n",
       "<td style=\"text-align:center\">$2,194</td>\n",
       "</tr>\n",
       "<tr>\n",
       "<td style=\"text-align:center\">2019-10-31</td>\n",
       "<td style=\"text-align:center\">$1,439</td>\n",
       "</tr>\n",
       "<tr>\n",
       "<td style=\"text-align:center\">2019-07-31</td>\n",
       "<td style=\"text-align:center\">$1,286</td>\n",
       "</tr>\n",
       "<tr>\n",
       "<td style=\"text-align:center\">2019-04-30</td>\n",
       "<td style=\"text-align:center\">$1,548</td>\n",
       "</tr>\n",
       "<tr>\n",
       "<td style=\"text-align:center\">2019-01-31</td>\n",
       "<td style=\"text-align:center\">$3,063</td>\n",
       "</tr>\n",
       "<tr>\n",
       "<td style=\"text-align:center\">2018-10-31</td>\n",
       "<td style=\"text-align:center\">$1,935</td>\n",
       "</tr>\n",
       "<tr>\n",
       "<td style=\"text-align:center\">2018-07-31</td>\n",
       "<td style=\"text-align:center\">$1,501</td>\n",
       "</tr>\n",
       "<tr>\n",
       "<td style=\"text-align:center\">2018-04-30</td>\n",
       "<td style=\"text-align:center\">$1,786</td>\n",
       "</tr>\n",
       "<tr>\n",
       "<td style=\"text-align:center\">2018-01-31</td>\n",
       "<td style=\"text-align:center\">$2,825</td>\n",
       "</tr>\n",
       "<tr>\n",
       "<td style=\"text-align:center\">2017-10-31</td>\n",
       "<td style=\"text-align:center\">$1,989</td>\n",
       "</tr>\n",
       "<tr>\n",
       "<td style=\"text-align:center\">2017-07-31</td>\n",
       "<td style=\"text-align:center\">$1,688</td>\n",
       "</tr>\n",
       "<tr>\n",
       "<td style=\"text-align:center\">2017-04-30</td>\n",
       "<td style=\"text-align:center\">$2,046</td>\n",
       "</tr>\n",
       "<tr>\n",
       "<td style=\"text-align:center\">2017-01-31</td>\n",
       "<td style=\"text-align:center\">$2,403</td>\n",
       "</tr>\n",
       "<tr>\n",
       "<td style=\"text-align:center\">2016-10-31</td>\n",
       "<td style=\"text-align:center\">$1,959</td>\n",
       "</tr>\n",
       "<tr>\n",
       "<td style=\"text-align:center\">2016-07-31</td>\n",
       "<td style=\"text-align:center\">$1,632</td>\n",
       "</tr>\n",
       "<tr>\n",
       "<td style=\"text-align:center\">2016-04-30</td>\n",
       "<td style=\"text-align:center\">$1,972</td>\n",
       "</tr>\n",
       "<tr>\n",
       "<td style=\"text-align:center\">2016-01-31</td>\n",
       "<td style=\"text-align:center\">$3,525</td>\n",
       "</tr>\n",
       "<tr>\n",
       "<td style=\"text-align:center\">2015-10-31</td>\n",
       "<td style=\"text-align:center\">$2,016</td>\n",
       "</tr>\n",
       "<tr>\n",
       "<td style=\"text-align:center\">2015-07-31</td>\n",
       "<td style=\"text-align:center\">$1,762</td>\n",
       "</tr>\n",
       "<tr>\n",
       "<td style=\"text-align:center\">2015-04-30</td>\n",
       "<td style=\"text-align:center\">$2,061</td>\n",
       "</tr>\n",
       "<tr>\n",
       "<td style=\"text-align:center\">2015-01-31</td>\n",
       "<td style=\"text-align:center\">$3,476</td>\n",
       "</tr>\n",
       "<tr>\n",
       "<td style=\"text-align:center\">2014-10-31</td>\n",
       "<td style=\"text-align:center\">$2,092</td>\n",
       "</tr>\n",
       "<tr>\n",
       "<td style=\"text-align:center\">2014-07-31</td>\n",
       "<td style=\"text-align:center\">$1,731</td>\n",
       "</tr>\n",
       "<tr>\n",
       "<td style=\"text-align:center\">2014-04-30</td>\n",
       "<td style=\"text-align:center\">$1,996</td>\n",
       "</tr>\n",
       "<tr>\n",
       "<td style=\"text-align:center\">2014-01-31</td>\n",
       "<td style=\"text-align:center\">$3,684</td>\n",
       "</tr>\n",
       "<tr>\n",
       "<td style=\"text-align:center\">2013-10-31</td>\n",
       "<td style=\"text-align:center\">$2,107</td>\n",
       "</tr>\n",
       "<tr>\n",
       "<td style=\"text-align:center\">2013-07-31</td>\n",
       "<td style=\"text-align:center\">$1,384</td>\n",
       "</tr>\n",
       "<tr>\n",
       "<td style=\"text-align:center\">2013-04-30</td>\n",
       "<td style=\"text-align:center\">$1,865</td>\n",
       "</tr>\n",
       "<tr>\n",
       "<td style=\"text-align:center\">2013-01-31</td>\n",
       "<td style=\"text-align:center\">$3,562</td>\n",
       "</tr>\n",
       "<tr>\n",
       "<td style=\"text-align:center\">2012-10-31</td>\n",
       "<td style=\"text-align:center\">$1,773</td>\n",
       "</tr>\n",
       "<tr>\n",
       "<td style=\"text-align:center\">2012-07-31</td>\n",
       "<td style=\"text-align:center\">$1,550</td>\n",
       "</tr>\n",
       "<tr>\n",
       "<td style=\"text-align:center\">2012-04-30</td>\n",
       "<td style=\"text-align:center\">$2,002</td>\n",
       "</tr>\n",
       "<tr>\n",
       "<td style=\"text-align:center\">2012-01-31</td>\n",
       "<td style=\"text-align:center\">$3,579</td>\n",
       "</tr>\n",
       "<tr>\n",
       "<td style=\"text-align:center\">2011-10-31</td>\n",
       "<td style=\"text-align:center\">$1,947</td>\n",
       "</tr>\n",
       "<tr>\n",
       "<td style=\"text-align:center\">2011-07-31</td>\n",
       "<td style=\"text-align:center\">$1,744</td>\n",
       "</tr>\n",
       "<tr>\n",
       "<td style=\"text-align:center\">2011-04-30</td>\n",
       "<td style=\"text-align:center\">$2,281</td>\n",
       "</tr>\n",
       "<tr>\n",
       "<td style=\"text-align:center\">2011-01-31</td>\n",
       "<td style=\"text-align:center\">$3,693</td>\n",
       "</tr>\n",
       "<tr>\n",
       "<td style=\"text-align:center\">2010-10-31</td>\n",
       "<td style=\"text-align:center\">$1,899</td>\n",
       "</tr>\n",
       "<tr>\n",
       "<td style=\"text-align:center\">2010-07-31</td>\n",
       "<td style=\"text-align:center\">$1,799</td>\n",
       "</tr>\n",
       "<tr>\n",
       "<td style=\"text-align:center\">2010-04-30</td>\n",
       "<td style=\"text-align:center\">$2,083</td>\n",
       "</tr>\n",
       "<tr>\n",
       "<td style=\"text-align:center\">2010-01-31</td>\n",
       "<td style=\"text-align:center\">$3,524</td>\n",
       "</tr>\n",
       "<tr>\n",
       "<td style=\"text-align:center\">2009-10-31</td>\n",
       "<td style=\"text-align:center\">$1,835</td>\n",
       "</tr>\n",
       "<tr>\n",
       "<td style=\"text-align:center\">2009-07-31</td>\n",
       "<td style=\"text-align:center\">$1,739</td>\n",
       "</tr>\n",
       "<tr>\n",
       "<td style=\"text-align:center\">2009-04-30</td>\n",
       "<td style=\"text-align:center\">$1,981</td>\n",
       "</tr>\n",
       "<tr>\n",
       "<td style=\"text-align:center\">2009-01-31</td>\n",
       "<td style=\"text-align:center\">$3,492</td>\n",
       "</tr>\n",
       "<tr>\n",
       "<td style=\"text-align:center\">2008-10-31</td>\n",
       "<td style=\"text-align:center\">$1,696</td>\n",
       "</tr>\n",
       "<tr>\n",
       "<td style=\"text-align:center\">2008-07-31</td>\n",
       "<td style=\"text-align:center\">$1,804</td>\n",
       "</tr>\n",
       "<tr>\n",
       "<td style=\"text-align:center\">2008-04-30</td>\n",
       "<td style=\"text-align:center\">$1,814</td>\n",
       "</tr>\n",
       "<tr>\n",
       "<td style=\"text-align:center\">2008-01-31</td>\n",
       "<td style=\"text-align:center\">$2,866</td>\n",
       "</tr>\n",
       "<tr>\n",
       "<td style=\"text-align:center\">2007-10-31</td>\n",
       "<td style=\"text-align:center\">$1,611</td>\n",
       "</tr>\n",
       "<tr>\n",
       "<td style=\"text-align:center\">2007-07-31</td>\n",
       "<td style=\"text-align:center\">$1,338</td>\n",
       "</tr>\n",
       "<tr>\n",
       "<td style=\"text-align:center\">2007-04-30</td>\n",
       "<td style=\"text-align:center\">$1,279</td>\n",
       "</tr>\n",
       "<tr>\n",
       "<td style=\"text-align:center\">2007-01-31</td>\n",
       "<td style=\"text-align:center\">$2,304</td>\n",
       "</tr>\n",
       "<tr>\n",
       "<td style=\"text-align:center\">2006-10-31</td>\n",
       "<td style=\"text-align:center\">$1,012</td>\n",
       "</tr>\n",
       "<tr>\n",
       "<td style=\"text-align:center\">2006-07-31</td>\n",
       "<td style=\"text-align:center\">$963</td>\n",
       "</tr>\n",
       "<tr>\n",
       "<td style=\"text-align:center\">2006-04-30</td>\n",
       "<td style=\"text-align:center\">$1,040</td>\n",
       "</tr>\n",
       "<tr>\n",
       "<td style=\"text-align:center\">2006-01-31</td>\n",
       "<td style=\"text-align:center\">$1,667</td>\n",
       "</tr>\n",
       "<tr>\n",
       "<td style=\"text-align:center\">2005-10-31</td>\n",
       "<td style=\"text-align:center\">$534</td>\n",
       "</tr>\n",
       "<tr>\n",
       "<td style=\"text-align:center\">2005-07-31</td>\n",
       "<td style=\"text-align:center\">$416</td>\n",
       "</tr>\n",
       "<tr>\n",
       "<td style=\"text-align:center\">2005-04-30</td>\n",
       "<td style=\"text-align:center\">$475</td>\n",
       "</tr>\n",
       "<tr>\n",
       "<td style=\"text-align:center\">2005-01-31</td>\n",
       "<td style=\"text-align:center\">$709</td>\n",
       "</tr>\n",
       "</tbody>"
      ]
     },
     "execution_count": 32,
     "metadata": {},
     "output_type": "execute_result"
    }
   ],
   "source": [
    "soup.find_all(\"tbody\")[1]"
   ]
  },
  {
   "cell_type": "markdown",
   "metadata": {},
   "source": [
    "Display the last five rows of the `gme_revenue` dataframe using the `tail` function. Take a screenshot of the results.\n"
   ]
  },
  {
   "cell_type": "code",
   "execution_count": 34,
   "metadata": {},
   "outputs": [
    {
     "name": "stdout",
     "output_type": "stream",
     "text": [
      "         Date  Revenue\n",
      "0  2020-04-30     1021\n",
      "1  2020-01-31     2194\n",
      "2  2019-10-31     1439\n",
      "3  2019-07-31     1286\n",
      "4  2019-04-30     1548\n",
      "          Date  Revenue\n",
      "57  2006-01-31     1667\n",
      "58  2005-10-31      534\n",
      "59  2005-07-31      416\n",
      "60  2005-04-30      475\n",
      "61  2005-01-31      709\n"
     ]
    }
   ],
   "source": [
    "import requests\n",
    "from bs4 import BeautifulSoup\n",
    "import pandas as pd\n",
    "\n",
    "# Download the webpage (if you haven't already)\n",
    "url = \"https://cf-courses-data.s3.us.cloud-object-storage.appdomain.cloud/IBMDeveloperSkillsNetwork-PY0220EN-SkillsNetwork/labs/project/stock.html\"\n",
    "response = requests.get(url)\n",
    "html_data_2 = response.text\n",
    "\n",
    "# Parse the HTML\n",
    "soup = BeautifulSoup(html_data_2, \"html.parser\")\n",
    "\n",
    "# Find the table body for GameStop Revenue (usually second <tbody>)\n",
    "table_body = soup.find_all(\"tbody\")[1]\n",
    "\n",
    "# Extract rows\n",
    "data = []\n",
    "for row in table_body.find_all(\"tr\"):\n",
    "    cols = row.find_all(\"td\")\n",
    "    if len(cols) == 2:\n",
    "        date = cols[0].text.strip()\n",
    "        revenue = cols[1].text.strip()\n",
    "        data.append([date, revenue])\n",
    "\n",
    "# Create DataFrame\n",
    "gme_revenue = pd.DataFrame(data, columns=[\"Date\", \"Revenue\"])\n",
    "\n",
    "# Clean Revenue column: remove $ and commas, convert to numeric\n",
    "gme_revenue[\"Revenue\"] = gme_revenue[\"Revenue\"].replace('[\\$,]', '', regex=True)\n",
    "gme_revenue[\"Revenue\"] = pd.to_numeric(gme_revenue[\"Revenue\"], errors='coerce')\n",
    "\n",
    "# Drop any rows with missing Revenue values\n",
    "gme_revenue.dropna(inplace=True)\n",
    "\n",
    "# Display the first few rows\n",
    "print(gme_revenue.head())\n",
    "\n",
    "print(gme_revenue.tail())\n"
   ]
  },
  {
   "cell_type": "markdown",
   "metadata": {},
   "source": [
    "## Question 5: Plot Tesla Stock Graph\n"
   ]
  },
  {
   "cell_type": "markdown",
   "metadata": {},
   "source": [
    "Use the `make_graph` function to graph the Tesla Stock Data, also provide a title for the graph. Note the graph will only show data upto June 2021.\n"
   ]
  },
  {
   "cell_type": "markdown",
   "metadata": {},
   "source": [
    "<details><summary>Hint</summary>\n",
    "\n",
    "```\n",
    "\n",
    "You just need to invoke the make_graph function with the required parameter to print the graphs.The structure to call the `make_graph` function is `make_graph(tesla_data, tesla_revenue, 'Tesla')`.\n",
    "\n",
    "```\n",
    "    \n",
    "</details>\n"
   ]
  },
  {
   "cell_type": "code",
   "execution_count": 36,
   "metadata": {},
   "outputs": [
    {
     "data": {
      "image/png": "[encoded data removed]",
      "text/plain": [
       "<Figure size 1200x600 with 1 Axes>"
      ]
     },
     "metadata": {},
     "output_type": "display_data"
    }
   ],
   "source": [
    "import matplotlib.pyplot as plt\n",
    "\n",
    "# Example make_graph function (you can replace with your own if you have it)\n",
    "def make_graph(df, title):\n",
    "    plt.figure(figsize=(12,6))\n",
    "    plt.plot(df['Date'], df['Close'], label='Close Price', color='blue')\n",
    "    plt.xlabel('Date')\n",
    "    plt.ylabel('Price ($)')\n",
    "    plt.title(title)\n",
    "    plt.legend()\n",
    "    plt.xticks(rotation=45)\n",
    "    plt.tight_layout()\n",
    "    plt.show()\n",
    "\n",
    "# Make sure 'Date' is a column (not index)\n",
    "tesla_data.reset_index(inplace=True)\n",
    "\n",
    "# Filter Tesla stock data up to June 30, 2021\n",
    "tesla_filtered = tesla_data[tesla_data['Date'] <= '2021-06-30']\n",
    "\n",
    "# Plot the data\n",
    "make_graph(tesla_filtered, \"Tesla Stock Price Up to June 2021\")\n"
   ]
  },
  {
   "cell_type": "markdown",
   "metadata": {},
   "source": [
    "## Question 6: Plot GameStop Stock Graph\n"
   ]
  },
  {
   "cell_type": "markdown",
   "metadata": {},
   "source": [
    "Use the `make_graph` function to graph the GameStop Stock Data, also provide a title for the graph. The structure to call the `make_graph` function is `make_graph(gme_data, gme_revenue, 'GameStop')`. Note the graph will only show data upto June 2021.\n"
   ]
  },
  {
   "cell_type": "markdown",
   "metadata": {},
   "source": [
    "<details><summary>Hint</summary>\n",
    "\n",
    "```\n",
    "\n",
    "You just need to invoke the make_graph function with the required parameter to print the graphs.The structure to call the `make_graph` function is `make_graph(gme_data, gme_revenue, 'GameStop')`\n",
    "\n",
    "```\n",
    "    \n",
    "</details>\n"
   ]
  },
  {
   "cell_type": "code",
   "execution_count": 38,
   "metadata": {},
   "outputs": [
    {
     "data": {
      "image/png": "[encoded data removed]",
      "text/plain": [
       "<Figure size 1400x600 with 2 Axes>"
      ]
     },
     "metadata": {},
     "output_type": "display_data"
    }
   ],
   "source": [
    "def make_graph(stock_data, revenue_data, company_name):\n",
    "    import matplotlib.pyplot as plt\n",
    "    import pandas as pd\n",
    "    \n",
    "    # Reset index to make sure 'Date' is a column\n",
    "    if stock_data.index.name == 'Date' or 'Date' not in stock_data.columns:\n",
    "        stock_data.reset_index(inplace=True)\n",
    "    if revenue_data.index.name == 'Date' or 'Date' not in revenue_data.columns:\n",
    "        revenue_data.reset_index(inplace=True)\n",
    "    \n",
    "    # Convert 'Date' to datetime\n",
    "    stock_data['Date'] = pd.to_datetime(stock_data['Date'])\n",
    "    revenue_data['Date'] = pd.to_datetime(revenue_data['Date'])\n",
    "    \n",
    "    # Filter data to June 30, 2021 or earlier\n",
    "    stock_filtered = stock_data[stock_data['Date'] <= '2021-06-30']\n",
    "    revenue_filtered = revenue_data[revenue_data['Date'] <= '2021-06-30']\n",
    "    \n",
    "    fig, ax1 = plt.subplots(figsize=(14,6))\n",
    "    \n",
    "    # Plot stock closing price\n",
    "    ax1.plot(stock_filtered['Date'], stock_filtered['Close'], color='blue', label='Close Price')\n",
    "    ax1.set_xlabel('Date')\n",
    "    ax1.set_ylabel('Stock Close Price ($)', color='blue')\n",
    "    ax1.tick_params(axis='y', labelcolor='blue')\n",
    "    \n",
    "    # Create second y-axis for revenue\n",
    "    ax2 = ax1.twinx()\n",
    "    ax2.plot(revenue_filtered['Date'], revenue_filtered['Revenue'], color='green', label='Revenue')\n",
    "    ax2.set_ylabel('Revenue ($ millions)', color='green')\n",
    "    ax2.tick_params(axis='y', labelcolor='green')\n",
    "    \n",
    "    plt.title(f\"{company_name} Stock Price and Revenue up to June 2021\")\n",
    "    fig.tight_layout()\n",
    "    plt.show()\n",
    "\n",
    "# Run this after resetting index or just call directly:\n",
    "make_graph(gme_data, gme_revenue, 'GameStop')\n"
   ]
  },
  {
   "cell_type": "markdown",
   "metadata": {},
   "source": [
    "<h2>About the Authors:</h2> \n",
    "\n",
    "<a href=\"https://www.linkedin.com/in/joseph-s-50398b136/\">Joseph Santarcangelo</a> has a PhD in Electrical Engineering, his research focused on using machine learning, signal processing, and computer vision to determine how videos impact human cognition. Joseph has been working for IBM since he completed his PhD.\n",
    "\n",
    "Azim Hirjani\n"
   ]
  },
  {
   "cell_type": "markdown",
   "metadata": {},
   "source": [
    "## Change Log\n",
    "\n",
    "| Date (YYYY-MM-DD) | Version | Changed By    | Change Description        |\n",
    "| ----------------- | ------- | ------------- | ------------------------- |\n",
    "| 2022-02-28        | 1.2     | Lakshmi Holla | Changed the URL of GameStop |\n",
    "| 2020-11-10        | 1.1     | Malika Singla | Deleted the Optional part |\n",
    "| 2020-08-27        | 1.0     | Malika Singla | Added lab to GitLab       |\n",
    "\n",
    "<hr>\n",
    "\n",
    "## <h3 align=\"center\"> © IBM Corporation 2020. All rights reserved. <h3/>\n",
    "\n",
    "<p>\n"
   ]
  }
 ],
 "metadata": {
  "kernelspec": {
   "display_name": "Python 3 (ipykernel)",
   "language": "python",
   "name": "python3"
  },
  "language_info": {
   "codemirror_mode": {
    "name": "ipython",
    "version": 3
   },
   "file_extension": ".py",
   "mimetype": "text/x-python",
   "name": "python",
   "nbconvert_exporter": "python",
   "pygments_lexer": "ipython3",
   "version": "3.12.8"
  },
  "prev_pub_hash": "a254c181ff89ab7bfd41849357df0b3716744f3a6dc743cb8ee1d0c6ffe92fcd"
 },
 "nbformat": 4,
 "nbformat_minor": 4
}
